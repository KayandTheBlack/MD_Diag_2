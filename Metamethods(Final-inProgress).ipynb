{
 "cells": [
  {
   "cell_type": "code",
   "execution_count": 1,
   "metadata": {},
   "outputs": [],
   "source": [
    "import pandas as pd\n",
    "import numpy as np\n",
    "from collections import Counter\n",
    "from sklearn.ensemble import RandomForestClassifier\n",
    "from sklearn.metrics import classification_report\n",
    "from sklearn.metrics import confusion_matrix\n",
    "import sklearn.model_selection as MS\n"
   ]
  },
  {
   "cell_type": "code",
   "execution_count": 2,
   "metadata": {},
   "outputs": [],
   "source": [
    "train = pd.read_csv(\"TRAIN.csv\",index_col=0)\n",
    "test = pd.read_csv(\"TEST.csv\",index_col=0)"
   ]
  },
  {
   "cell_type": "code",
   "execution_count": 5,
   "metadata": {},
   "outputs": [],
   "source": [
    "X = train.drop(\"readmitted\", axis=1)\n",
    "y = train[\"readmitted\"]\n",
    "X = test.drop(\"readmitted\", axis=1)\n",
    "y = test[\"readmitted\"]"
   ]
  },
  {
   "cell_type": "code",
   "execution_count": null,
   "metadata": {},
   "outputs": [],
   "source": [
    "# ?Add others? Bagging or sth, work on previous work of M-B group"
   ]
  },
  {
   "cell_type": "markdown",
   "metadata": {},
   "source": [
    "## Random Forest"
   ]
  },
  {
   "cell_type": "code",
   "execution_count": 6,
   "metadata": {},
   "outputs": [
    {
     "name": "stdout",
     "output_type": "stream",
     "text": [
      "              precision    recall  f1-score   support\n",
      "\n",
      "           0       0.34      0.00      0.01      3409\n",
      "           1       0.88      1.00      0.94     25951\n",
      "\n",
      "   micro avg       0.88      0.88      0.88     29360\n",
      "   macro avg       0.61      0.50      0.47     29360\n",
      "weighted avg       0.82      0.88      0.83     29360\n",
      "\n"
     ]
    }
   ],
   "source": [
    "# Without tampering probabilities nor any unbalanced method:\n",
    "cv = MS.KFold(n_splits=10)\n",
    "clf = RandomForestClassifier(n_estimators = 100)\n",
    "y_pred = MS.cross_val_predict(clf, X, y, cv = cv)\n",
    "print(classification_report(y, y_pred))\n",
    "# Dismally low results, to be expected given the lack of examples of class 0."
   ]
  },
  {
   "cell_type": "code",
   "execution_count": 8,
   "metadata": {},
   "outputs": [],
   "source": [
    "# Tampering with probablities:\n",
    "clf = RandomForestClassifier(n_estimators = 100)\n",
    "y_probs = MS.cross_val_predict(clf, X, y, cv = cv, method='predict_proba')"
   ]
  },
  {
   "cell_type": "code",
   "execution_count": 14,
   "metadata": {},
   "outputs": [
    {
     "name": "stdout",
     "output_type": "stream",
     "text": [
      "Threshold: 0.1\n",
      "               precision    recall  f1-score   support\n",
      "\n",
      "           0       0.15      0.67      0.24      3409\n",
      "           1       0.92      0.50      0.65     25951\n",
      "\n",
      "   micro avg       0.52      0.52      0.52     29360\n",
      "   macro avg       0.53      0.58      0.45     29360\n",
      "weighted avg       0.83      0.52      0.60     29360\n",
      "\n",
      "Threshold: 0.12000000000000001\n",
      "               precision    recall  f1-score   support\n",
      "\n",
      "           0       0.16      0.57      0.25      3409\n",
      "           1       0.91      0.61      0.73     25951\n",
      "\n",
      "   micro avg       0.60      0.60      0.60     29360\n",
      "   macro avg       0.54      0.59      0.49     29360\n",
      "weighted avg       0.83      0.60      0.67     29360\n",
      "\n",
      "Threshold: 0.14\n",
      "               precision    recall  f1-score   support\n",
      "\n",
      "           0       0.17      0.47      0.25      3409\n",
      "           1       0.91      0.69      0.79     25951\n",
      "\n",
      "   micro avg       0.67      0.67      0.67     29360\n",
      "   macro avg       0.54      0.58      0.52     29360\n",
      "weighted avg       0.82      0.67      0.72     29360\n",
      "\n",
      "Threshold: 0.16000000000000003\n",
      "               precision    recall  f1-score   support\n",
      "\n",
      "           0       0.18      0.39      0.25      3409\n",
      "           1       0.91      0.77      0.83     25951\n",
      "\n",
      "   micro avg       0.72      0.72      0.72     29360\n",
      "   macro avg       0.54      0.58      0.54     29360\n",
      "weighted avg       0.82      0.72      0.76     29360\n",
      "\n",
      "Threshold: 0.18000000000000002\n",
      "               precision    recall  f1-score   support\n",
      "\n",
      "           0       0.20      0.32      0.24      3409\n",
      "           1       0.90      0.83      0.86     25951\n",
      "\n",
      "   micro avg       0.77      0.77      0.77     29360\n",
      "   macro avg       0.55      0.58      0.55     29360\n",
      "weighted avg       0.82      0.77      0.79     29360\n",
      "\n"
     ]
    }
   ],
   "source": [
    "for thr in np.arange(0.1, 0.2, 0.02):\n",
    "    y_pred = [0 if p>thr else 1 for p in y_probs[:,0]]\n",
    "    print(\"Threshold: \"+ str(thr) + \"\\n\", classification_report(y, y_pred))"
   ]
  },
  {
   "cell_type": "code",
   "execution_count": 16,
   "metadata": {},
   "outputs": [
    {
     "name": "stdout",
     "output_type": "stream",
     "text": [
      "Old dataset shape Counter({1: 25951, 0: 3409})\n",
      "New dataset shape Counter({1: 25951, 0: 25951})\n"
     ]
    }
   ],
   "source": [
    "# Tampering with dataset distribution (SMOTE)\n",
    "from imblearn.over_sampling import SMOTE\n",
    "\n",
    "sm = SMOTE(random_state=20)\n",
    "X_n, y_n = sm.fit_sample(X, y)\n",
    "print('Old dataset shape {}'.format(Counter(y)))\n",
    "print('New dataset shape {}'.format(Counter(y_n)))"
   ]
  },
  {
   "cell_type": "code",
   "execution_count": 17,
   "metadata": {},
   "outputs": [
    {
     "name": "stdout",
     "output_type": "stream",
     "text": [
      "              precision    recall  f1-score   support\n",
      "\n",
      "           0       0.99      0.89      0.94     25951\n",
      "           1       0.90      0.99      0.94     25951\n",
      "\n",
      "   micro avg       0.94      0.94      0.94     51902\n",
      "   macro avg       0.95      0.94      0.94     51902\n",
      "weighted avg       0.95      0.94      0.94     51902\n",
      "\n"
     ]
    }
   ],
   "source": [
    "# As a note, we've seen studies do something like this, but it is cheating:\n",
    "clf = RandomForestClassifier(n_estimators = 100) \n",
    "y_pred = MS.cross_val_predict(clf, X_n, y_n, cv = cv)\n",
    "print(classification_report(y_n, y_pred))"
   ]
  },
  {
   "cell_type": "code",
   "execution_count": 19,
   "metadata": {},
   "outputs": [],
   "source": [
    "# What should be done instead:\n",
    "from sklearn.model_selection import train_test_split\n",
    "X2, X2_test, y2, y2_test = train_test_split(X, y, random_state=42,test_size=0.3)\n",
    "sm = SMOTE(random_state=20)\n",
    "X_n, y_n = sm.fit_sample(X2, y2)"
   ]
  },
  {
   "cell_type": "code",
   "execution_count": 25,
   "metadata": {},
   "outputs": [
    {
     "name": "stdout",
     "output_type": "stream",
     "text": [
      "              precision    recall  f1-score   support\n",
      "\n",
      "           0       0.23      0.01      0.02      1039\n",
      "           1       0.88      1.00      0.94      7769\n",
      "\n",
      "   micro avg       0.88      0.88      0.88      8808\n",
      "   macro avg       0.56      0.50      0.48      8808\n",
      "weighted avg       0.81      0.88      0.83      8808\n",
      "\n"
     ]
    }
   ],
   "source": [
    "clf = RandomForestClassifier(n_estimators = 100)\n",
    "clf.fit(X_n, y_n)\n",
    "y_pred=clf.predict(X2_test)\n",
    "print(classification_report(y2_test, y_pred))\n",
    "# Not better than first try, this is the real outcome and not the one with CV_predictions"
   ]
  },
  {
   "cell_type": "code",
   "execution_count": 26,
   "metadata": {},
   "outputs": [],
   "source": [
    "# Using both techniques simultaneously\n",
    "y_probs = clf.predict_proba(X2_test)"
   ]
  },
  {
   "cell_type": "code",
   "execution_count": 29,
   "metadata": {},
   "outputs": [
    {
     "name": "stdout",
     "output_type": "stream",
     "text": [
      "Threshold: 0.1\n",
      "               precision    recall  f1-score   support\n",
      "\n",
      "           0       0.14      0.80      0.24      1039\n",
      "           1       0.93      0.35      0.51      7769\n",
      "\n",
      "   micro avg       0.40      0.40      0.40      8808\n",
      "   macro avg       0.53      0.57      0.37      8808\n",
      "weighted avg       0.84      0.40      0.48      8808\n",
      "\n",
      "Threshold: 0.12000000000000001\n",
      "               precision    recall  f1-score   support\n",
      "\n",
      "           0       0.15      0.72      0.25      1039\n",
      "           1       0.92      0.44      0.60      7769\n",
      "\n",
      "   micro avg       0.48      0.48      0.48      8808\n",
      "   macro avg       0.54      0.58      0.42      8808\n",
      "weighted avg       0.83      0.48      0.56      8808\n",
      "\n",
      "Threshold: 0.14\n",
      "               precision    recall  f1-score   support\n",
      "\n",
      "           0       0.16      0.64      0.25      1039\n",
      "           1       0.92      0.54      0.68      7769\n",
      "\n",
      "   micro avg       0.55      0.55      0.55      8808\n",
      "   macro avg       0.54      0.59      0.47      8808\n",
      "weighted avg       0.83      0.55      0.63      8808\n",
      "\n",
      "Threshold: 0.16000000000000003\n",
      "               precision    recall  f1-score   support\n",
      "\n",
      "           0       0.17      0.57      0.26      1039\n",
      "           1       0.92      0.63      0.75      7769\n",
      "\n",
      "   micro avg       0.62      0.62      0.62      8808\n",
      "   macro avg       0.54      0.60      0.50      8808\n",
      "weighted avg       0.83      0.62      0.69      8808\n",
      "\n",
      "Threshold: 0.18000000000000002\n",
      "               precision    recall  f1-score   support\n",
      "\n",
      "           0       0.18      0.49      0.26      1039\n",
      "           1       0.91      0.70      0.79      7769\n",
      "\n",
      "   micro avg       0.68      0.68      0.68      8808\n",
      "   macro avg       0.55      0.59      0.53      8808\n",
      "weighted avg       0.82      0.68      0.73      8808\n",
      "\n",
      "Threshold: 0.2\n",
      "               precision    recall  f1-score   support\n",
      "\n",
      "           0       0.19      0.42      0.27      1039\n",
      "           1       0.91      0.77      0.83      7769\n",
      "\n",
      "   micro avg       0.73      0.73      0.73      8808\n",
      "   macro avg       0.55      0.59      0.55      8808\n",
      "weighted avg       0.82      0.73      0.76      8808\n",
      "\n",
      "Threshold: 0.22000000000000003\n",
      "               precision    recall  f1-score   support\n",
      "\n",
      "           0       0.20      0.36      0.26      1039\n",
      "           1       0.90      0.81      0.86      7769\n",
      "\n",
      "   micro avg       0.76      0.76      0.76      8808\n",
      "   macro avg       0.55      0.59      0.56      8808\n",
      "weighted avg       0.82      0.76      0.79      8808\n",
      "\n",
      "Threshold: 0.24000000000000002\n",
      "               precision    recall  f1-score   support\n",
      "\n",
      "           0       0.21      0.29      0.24      1039\n",
      "           1       0.90      0.85      0.88      7769\n",
      "\n",
      "   micro avg       0.79      0.79      0.79      8808\n",
      "   macro avg       0.56      0.57      0.56      8808\n",
      "weighted avg       0.82      0.79      0.80      8808\n",
      "\n"
     ]
    }
   ],
   "source": [
    "for thr in np.arange(0.1, 0.25, 0.02):\n",
    "    y_pred = [0 if p>thr else 1 for p in y_probs[:,0]]\n",
    "    print(\"Threshold: \"+ str(thr) + \"\\n\", classification_report(y2_test, y_pred))"
   ]
  },
  {
   "cell_type": "code",
   "execution_count": null,
   "metadata": {},
   "outputs": [],
   "source": [
    "# Best results are with Upsampling and probablities at 0.2 threshold.\n"
   ]
  }
 ],
 "metadata": {
  "kernelspec": {
   "display_name": "Python 3",
   "language": "python",
   "name": "python3"
  },
  "language_info": {
   "codemirror_mode": {
    "name": "ipython",
    "version": 3
   },
   "file_extension": ".py",
   "mimetype": "text/x-python",
   "name": "python",
   "nbconvert_exporter": "python",
   "pygments_lexer": "ipython3",
   "version": "3.7.0"
  }
 },
 "nbformat": 4,
 "nbformat_minor": 2
}
