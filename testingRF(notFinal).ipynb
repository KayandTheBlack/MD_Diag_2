{
 "cells": [
  {
   "cell_type": "code",
   "execution_count": 1,
   "metadata": {},
   "outputs": [],
   "source": [
    "from sklearn.ensemble import RandomForestClassifier\n",
    "from sklearn.metrics import classification_report\n",
    "from sklearn.model_selection import cross_val_score\n",
    "import IPython\n",
    "import pandas as pd\n",
    "import numpy as np\n",
    "from collections import Counter\n",
    "from imblearn.over_sampling import SMOTE\n"
   ]
  },
  {
   "cell_type": "code",
   "execution_count": 2,
   "metadata": {},
   "outputs": [],
   "source": [
    "train = pd.read_csv(\"Train2.csv\",index_col=0)\n",
    "test = pd.read_csv(\"Test2.csv\",index_col=0)"
   ]
  },
  {
   "cell_type": "code",
   "execution_count": null,
   "metadata": {},
   "outputs": [],
   "source": [
    "#train.head().T"
   ]
  },
  {
   "cell_type": "code",
   "execution_count": 3,
   "metadata": {},
   "outputs": [
    {
     "name": "stdout",
     "output_type": "stream",
     "text": [
      "New dataset shape Counter({1: 60750, 0: 7755})\n"
     ]
    }
   ],
   "source": [
    "train.head()\n",
    "print('New dataset shape {}'.format(Counter(train[\"readmitted\"])))"
   ]
  },
  {
   "cell_type": "code",
   "execution_count": 4,
   "metadata": {},
   "outputs": [],
   "source": [
    "X = train.drop(\"readmitted\", axis=1)\n",
    "Y = train[\"readmitted\"]\n",
    "X_test = test.drop(\"readmitted\", axis=1)\n",
    "Y_test = test[\"readmitted\"]"
   ]
  },
  {
   "cell_type": "code",
   "execution_count": 5,
   "metadata": {},
   "outputs": [
    {
     "name": "stdout",
     "output_type": "stream",
     "text": [
      "Old dataset shape Counter({1: 60750, 0: 7755})\n",
      "New dataset shape Counter({1: 60750, 0: 60750})\n"
     ]
    }
   ],
   "source": [
    "sm = SMOTE(random_state=20)\n",
    "X_n, Y_n = sm.fit_sample(X, Y)\n",
    "print('Old dataset shape {}'.format(Counter(Y)))\n",
    "print('New dataset shape {}'.format(Counter(Y_n)))"
   ]
  },
  {
   "cell_type": "code",
   "execution_count": 6,
   "metadata": {},
   "outputs": [
    {
     "name": "stdout",
     "output_type": "stream",
     "text": [
      "              precision    recall  f1-score   support\n",
      "\n",
      "           0       0.38      0.03      0.05      3409\n",
      "           1       0.89      0.99      0.94     25951\n",
      "\n",
      "   micro avg       0.88      0.88      0.88     29360\n",
      "   macro avg       0.63      0.51      0.49     29360\n",
      "weighted avg       0.83      0.88      0.83     29360\n",
      "\n"
     ]
    }
   ],
   "source": [
    "clf = RandomForestClassifier(n_estimators = 100)#, max_depth=25, criterion = \"gini\", min_samples_split=10)\n",
    "clf.fit(X_n, Y_n)\n",
    "pred=clf.predict(X_test)\n",
    "print(classification_report(Y_test, pred))\n"
   ]
  },
  {
   "cell_type": "code",
   "execution_count": 10,
   "metadata": {},
   "outputs": [
    {
     "name": "stdout",
     "output_type": "stream",
     "text": [
      "              precision    recall  f1-score   support\n",
      "\n",
      "           0       0.17      0.49      0.26      3409\n",
      "           1       0.91      0.70      0.79     25951\n",
      "\n",
      "   micro avg       0.67      0.67      0.67     29360\n",
      "   macro avg       0.54      0.59      0.52     29360\n",
      "weighted avg       0.83      0.67      0.73     29360\n",
      "\n"
     ]
    }
   ],
   "source": [
    "# Improving Recall of class 0\n",
    "probs = clf.predict_proba(X_test)\n",
    "thr = 0.17\n",
    "pred = [0 if p>thr else 1 for p in probs[:,0]] #probs.apply(lambda x: 0 if x < thr else 1)\n",
    "print(classification_report(Y_test, pred))"
   ]
  }
 ],
 "metadata": {
  "kernelspec": {
   "display_name": "Python 3",
   "language": "python",
   "name": "python3"
  },
  "language_info": {
   "codemirror_mode": {
    "name": "ipython",
    "version": 3
   },
   "file_extension": ".py",
   "mimetype": "text/x-python",
   "name": "python",
   "nbconvert_exporter": "python",
   "pygments_lexer": "ipython3",
   "version": "3.7.0"
  }
 },
 "nbformat": 4,
 "nbformat_minor": 2
}
