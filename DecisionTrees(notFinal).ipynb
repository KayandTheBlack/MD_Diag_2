{
 "cells": [
  {
   "cell_type": "code",
   "execution_count": 18,
   "metadata": {},
   "outputs": [],
   "source": [
    "# Import libraries \n",
    "\n",
    "import numpy as np    # Numeric and matrix computation\n",
    "import pandas as pd   # Optional: good package for manipulating data \n",
    "import sklearn as sklearn  # Package with learning algorithms implemented"
   ]
  },
  {
   "cell_type": "code",
   "execution_count": 19,
   "metadata": {},
   "outputs": [
    {
     "name": "stdout",
     "output_type": "stream",
     "text": [
      "(68505, 71)\n"
     ]
    }
   ],
   "source": [
    "train = pd.read_csv(\"Train.csv\",index_col=0)\n",
    "test = pd.read_csv(\"Test.csv\",index_col=0)\n",
    "print(train.shape)"
   ]
  },
  {
   "cell_type": "code",
   "execution_count": 20,
   "metadata": {},
   "outputs": [],
   "source": [
    "X_train = train.drop(\"readmitted\", axis=1)\n",
    "y_train = train[\"readmitted\"]\n",
    "X_test = test.drop(\"readmitted\", axis=1)\n",
    "y_test = test[\"readmitted\"]\n"
   ]
  },
  {
   "cell_type": "code",
   "execution_count": null,
   "metadata": {},
   "outputs": [
    {
     "name": "stdout",
     "output_type": "stream",
     "text": [
      "2018-12-13 13:32:25.616291\n",
      "[[  573  2836]\n",
      " [ 3247 22704]]\n",
      "\n",
      "Accuracy on test set: 0.7928133514986376\n",
      "\n",
      "              precision    recall  f1-score   support\n",
      "\n",
      "           0       0.15      0.17      0.16      3409\n",
      "           1       0.89      0.87      0.88     25951\n",
      "\n",
      "   micro avg       0.79      0.79      0.79     29360\n",
      "   macro avg       0.52      0.52      0.52     29360\n",
      "weighted avg       0.80      0.79      0.80     29360\n",
      "\n",
      "Confidence interval:  (0.7881329105767731, 0.7974142891811549)\n",
      "2018-12-13 13:34:02.766046\n"
     ]
    }
   ],
   "source": [
    "from sklearn import tree\n",
    "from datetime import datetime\n",
    "from sklearn.externals.six import StringIO  \n",
    "import pydot\n",
    "from IPython.display import Image  \n",
    "from statsmodels.stats.proportion import proportion_confint\n",
    "print(datetime.now())\n",
    "\n",
    "clf = tree.DecisionTreeClassifier(criterion='entropy')\n",
    "pred = clf.fit(X_train, y_train).predict(X_test)\n",
    "print(sklearn.metrics.confusion_matrix(y_test, pred))\n",
    "print()\n",
    "print(\"Accuracy on test set:\", sklearn.metrics.accuracy_score(y_test, pred))\n",
    "print()\n",
    "print(sklearn.metrics.classification_report(y_test, pred))\n",
    "epsilon = sklearn.metrics.accuracy_score(y_test, pred)\n",
    "print(\"Confidence interval: \",proportion_confint(count=epsilon*X_test.shape[0], nobs=X_test.shape[0], alpha=0.05, method='binom_test'))\n",
    "\n",
    "#scores = sklearn.model_selection.cross_val_score(clf, Xn, y, cv=10)\n",
    "#print(\"Accuracy on 10 fold cross-validation:\", scores)\n",
    "#print(np.mean(scores))\n",
    "\n",
    "## Print tree\n",
    "dot_data = StringIO() \n",
    "tree.export_graphviz(clf, out_file=dot_data,    \n",
    "                         filled=True, rounded=True,\n",
    "                         feature_names=list(X_train.columns.values),  \n",
    "                         special_characters=True)  \n",
    "graph = pydot.graph_from_dot_data(dot_data.getvalue())  \n",
    "print(datetime.now())\n",
    "Image(graph[0].create_png()) \n"
   ]
  },
  {
   "cell_type": "code",
   "execution_count": null,
   "metadata": {},
   "outputs": [],
   "source": []
  }
 ],
 "metadata": {
  "kernelspec": {
   "display_name": "Python 3",
   "language": "python",
   "name": "python3"
  },
  "language_info": {
   "codemirror_mode": {
    "name": "ipython",
    "version": 3
   },
   "file_extension": ".py",
   "mimetype": "text/x-python",
   "name": "python",
   "nbconvert_exporter": "python",
   "pygments_lexer": "ipython3",
   "version": "3.5.2"
  }
 },
 "nbformat": 4,
 "nbformat_minor": 2
}
