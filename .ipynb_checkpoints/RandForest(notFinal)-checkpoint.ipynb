{
 "cells": [
  {
   "cell_type": "code",
   "execution_count": 20,
   "metadata": {},
   "outputs": [],
   "source": [
    "from sklearn.ensemble import RandomForestClassifier\n",
    "from sklearn.metrics import classification_report\n",
    "from sklearn.model_selection import cross_val_score\n",
    "import IPython\n",
    "import pandas as pd\n",
    "import numpy as np\n",
    "from collections import Counter\n",
    "from sklearn.metrics import confusion_matrix\n",
    "\n"
   ]
  },
  {
   "cell_type": "code",
   "execution_count": 2,
   "metadata": {},
   "outputs": [],
   "source": [
    "train = pd.read_csv(\"TRAIN.csv\",index_col=0)\n",
    "test = pd.read_csv(\"TEST.csv\",index_col=0)"
   ]
  },
  {
   "cell_type": "code",
   "execution_count": 3,
   "metadata": {},
   "outputs": [
    {
     "name": "stdout",
     "output_type": "stream",
     "text": [
      "New dataset shape Counter({1: 60750, 0: 7755})\n"
     ]
    }
   ],
   "source": [
    "train.head()\n",
    "print('New dataset shape {}'.format(Counter(train[\"TARGET\"])))"
   ]
  },
  {
   "cell_type": "code",
   "execution_count": 4,
   "metadata": {},
   "outputs": [],
   "source": [
    "X = train.drop(\"TARGET\", axis=1)\n",
    "Y = train[\"TARGET\"]\n",
    "X_test = test.drop(\"TARGET\", axis=1)\n",
    "Y_test = test[\"TARGET\"]"
   ]
  },
  {
   "cell_type": "code",
   "execution_count": 6,
   "metadata": {},
   "outputs": [
    {
     "name": "stdout",
     "output_type": "stream",
     "text": [
      "             precision    recall  f1-score   support\n",
      "\n",
      "          0       0.42      0.01      0.02      3409\n",
      "          1       0.88      1.00      0.94     25951\n",
      "\n",
      "avg / total       0.83      0.88      0.83     29360\n",
      "\n"
     ]
    }
   ],
   "source": [
    "clf = RandomForestClassifier(n_estimators = 100)#, max_depth=25, criterion = \"gini\", min_samples_split=10)\n",
    "clf.fit(X, Y)\n",
    "pred=clf.predict(X_test)\n",
    "print(classification_report(Y_test, pred))\n"
   ]
  },
  {
   "cell_type": "code",
   "execution_count": 12,
   "metadata": {},
   "outputs": [
    {
     "data": {
      "text/plain": [
       "array([[0.03, 0.97],\n",
       "       [0.01, 0.99],\n",
       "       [0.23, 0.77],\n",
       "       ...,\n",
       "       [0.01, 0.99],\n",
       "       [0.22, 0.78],\n",
       "       [0.05, 0.95]])"
      ]
     },
     "execution_count": 12,
     "metadata": {},
     "output_type": "execute_result"
    }
   ],
   "source": [
    "clf = RandomForestClassifier(n_estimators = 100)#, max_depth=25, criterion = \"gini\", min_samples_split=10)\n",
    "clf.fit(X, Y)\n",
    "probs=clf.predict_proba(X_test)\n",
    "probs"
   ]
  },
  {
   "cell_type": "code",
   "execution_count": 23,
   "metadata": {},
   "outputs": [
    {
     "name": "stdout",
     "output_type": "stream",
     "text": [
      "\n",
      " 0.0\n",
      "             precision    recall  f1-score   support\n",
      "\n",
      "          0       0.05      0.00      0.01      3409\n",
      "          1       0.88      0.99      0.94     25951\n",
      "\n",
      "avg / total       0.79      0.88      0.83     29360\n",
      "\n",
      "[[    9  3400]\n",
      " [  182 25769]]\n",
      "\n",
      " 0.1\n",
      "             precision    recall  f1-score   support\n",
      "\n",
      "          0       0.08      0.32      0.12      3409\n",
      "          1       0.85      0.50      0.63     25951\n",
      "\n",
      "avg / total       0.76      0.48      0.57     29360\n",
      "\n",
      "[[ 1085  2324]\n",
      " [13042 12909]]\n",
      "\n",
      " 0.2\n",
      "             precision    recall  f1-score   support\n",
      "\n",
      "          0       0.10      0.75      0.18      3409\n",
      "          1       0.79      0.12      0.21     25951\n",
      "\n",
      "avg / total       0.71      0.19      0.21     29360\n",
      "\n",
      "[[ 2556   853]\n",
      " [22798  3153]]\n",
      "\n",
      " 0.30000000000000004\n",
      "             precision    recall  f1-score   support\n",
      "\n",
      "          0       0.11      0.92      0.20      3409\n",
      "          1       0.68      0.02      0.04     25951\n",
      "\n",
      "avg / total       0.61      0.13      0.06     29360\n",
      "\n",
      "[[ 3132   277]\n",
      " [25368   583]]\n"
     ]
    }
   ],
   "source": [
    "probs[:, 0]\n",
    "\n",
    "def filterp(th,ProbClass1):\n",
    "    \"\"\" Given a treshold \"th\" and a set of probabilies of belonging to class 1 \"ProbClass1\", return predictions \"\"\" \n",
    "    y=np.zeros(ProbClass1.shape[0])\n",
    "    for i,v in enumerate(ProbClass1):\n",
    "        if ProbClass1[i]>th:\n",
    "            y[i]=1\n",
    "    return y  \n",
    "for th in range(4):\n",
    "    print('\\n', th*0.1)\n",
    "    npred = filterp(th*0.1,probs[:,0])\n",
    "    print(classification_report(Y_test, npred))\n",
    "    print(confusion_matrix(Y_test, npred))\n",
    "#"
   ]
  },
  {
   "cell_type": "code",
   "execution_count": 18,
   "metadata": {},
   "outputs": [
    {
     "name": "stdout",
     "output_type": "stream",
     "text": [
      "             precision    recall  f1-score   support\n",
      "\n",
      "          0       0.10      0.75      0.18      3409\n",
      "          1       0.79      0.12      0.21     25951\n",
      "\n",
      "avg / total       0.71      0.19      0.21     29360\n",
      "\n"
     ]
    }
   ],
   "source": []
  },
  {
   "cell_type": "code",
   "execution_count": null,
   "metadata": {},
   "outputs": [],
   "source": []
  }
 ],
 "metadata": {
  "kernelspec": {
   "display_name": "Python 3",
   "language": "python",
   "name": "python3"
  },
  "language_info": {
   "codemirror_mode": {
    "name": "ipython",
    "version": 3
   },
   "file_extension": ".py",
   "mimetype": "text/x-python",
   "name": "python",
   "nbconvert_exporter": "python",
   "pygments_lexer": "ipython3",
   "version": "3.7.0"
  }
 },
 "nbformat": 4,
 "nbformat_minor": 2
}
